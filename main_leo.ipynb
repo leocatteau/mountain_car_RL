{
 "cells": [
  {
   "cell_type": "code",
   "execution_count": 244,
   "metadata": {},
   "outputs": [],
   "source": [
    "import gymnasium as gym\n",
    "import matplotlib.pyplot as plt\n",
    "import numpy as np\n",
    "import torch\n",
    "import cv2 \n",
    "from tqdm import tqdm"
   ]
  },
  {
   "cell_type": "markdown",
   "metadata": {},
   "source": [
    "# 1 Introduction"
   ]
  },
  {
   "cell_type": "markdown",
   "metadata": {},
   "source": [
    "### 1.1 Mountain Car Environment"
   ]
  },
  {
   "cell_type": "code",
   "execution_count": 245,
   "metadata": {},
   "outputs": [
    {
     "name": "stdout",
     "output_type": "stream",
     "text": [
      "Action space: Discrete(3)\n",
      "Observation space: Box([-1.2  -0.07], [0.6  0.07], (2,), float32)\n",
      "Number of actions available: 3\n",
      "Observation shape: (2,)\n",
      "Starting state: [-0.5236993  0.       ]\n",
      "Episode reward after taking random actions: -200.0\n"
     ]
    }
   ],
   "source": [
    "env = gym.make('MountainCar-v0', render_mode=\"rgb_array\")\n",
    "\n",
    "print(f\"Action space: {env.action_space}\")\n",
    "print(f\"Observation space: {env.observation_space}\")\n",
    "print(f\"Number of actions available: {env.action_space.n}\")\n",
    "print(f\"Observation shape: {env.observation_space.shape}\")\n",
    "\n",
    "starting_state, _ = env.reset() \n",
    "print(f\"Starting state: {starting_state}\")\n",
    "\n",
    "done = False\n",
    "state, _ = env.reset()\n",
    "episode_reward = 0\n",
    "while not done:\n",
    "    action = env.action_space.sample()\n",
    "    next_state, reward, terminated, truncated, _ = env.step(action)\n",
    "\n",
    "    episode_reward += reward\n",
    "\n",
    "    state = next_state\n",
    "    done = terminated or truncated\n",
    "\n",
    "print(f\"Episode reward after taking random actions: {episode_reward}\")"
   ]
  },
  {
   "cell_type": "markdown",
   "metadata": {},
   "source": [
    "### 1.2 Agents"
   ]
  },
  {
   "cell_type": "code",
   "execution_count": 246,
   "metadata": {},
   "outputs": [],
   "source": [
    "class Agents():\n",
    "    def __init__(self, env):\n",
    "        self.done = False\n",
    "        self.env = env\n",
    "\n",
    "    def observe(self, action, next_state, reward):\n",
    "        None \n",
    "    \n",
    "    def select_action(self, state):\n",
    "        None\n",
    "\n",
    "    def update(self):\n",
    "        None"
   ]
  },
  {
   "cell_type": "markdown",
   "metadata": {},
   "source": [
    "# 2. First steps"
   ]
  },
  {
   "cell_type": "code",
   "execution_count": 247,
   "metadata": {},
   "outputs": [],
   "source": [
    "class RandomAgent(Agents):\n",
    "    def __init__(self, env):\n",
    "        super().__init__(env)\n",
    "    \n",
    "    def select_action(self, state):\n",
    "        return self.env.action_space.sample()"
   ]
  },
  {
   "cell_type": "code",
   "execution_count": 248,
   "metadata": {},
   "outputs": [],
   "source": [
    "def episode(env, agent):\n",
    "    state, _ = env.reset()\n",
    "    done = False\n",
    "\n",
    "    episode_reward = 0\n",
    "    episode_length = 0\n",
    "    while not done:\n",
    "        action = agent.select_action(state)\n",
    "        next_state, reward, terminated, truncated, _ = env.step(action)\n",
    "\n",
    "        episode_reward += reward\n",
    "        episode_length += 1\n",
    "\n",
    "        state = next_state\n",
    "        done = terminated or truncated\n",
    "\n",
    "    return episode_reward, episode_length"
   ]
  },
  {
   "cell_type": "code",
   "execution_count": 249,
   "metadata": {},
   "outputs": [
    {
     "data": {
      "image/png": "[encoded data removed]",
      "text/plain": [
       "<Figure size 640x480 with 1 Axes>"
      ]
     },
     "metadata": {},
     "output_type": "display_data"
    }
   ],
   "source": [
    "environment = gym.make('MountainCar-v0', render_mode=\"rgb_array\")\n",
    "agent = RandomAgent(environment)\n",
    "\n",
    "num_episodes = 100\n",
    "episode_rewards = np.empty(num_episodes)\n",
    "episode_lengths = np.empty(num_episodes)\n",
    "for i in range(num_episodes):\n",
    "    episode_rewards[i], episode_lengths[i] = episode(environment, agent)\n",
    "\n",
    "plt.figure()\n",
    "plt.plot(episode_rewards, label=\"Episode reward\")\n",
    "plt.plot(episode_lengths, label=\"Episode length\")\n",
    "plt.xlabel(\"Episode\") \n",
    "plt.legend()\n",
    "plt.show()"
   ]
  },
  {
   "cell_type": "markdown",
   "metadata": {},
   "source": [
    "Episode rewaard and episode lentgh are always -200 and 200, which is the default value for truncated=True. \n",
    "\n",
    "Basically, random sample of actions never solves the problem. "
   ]
  },
  {
   "cell_type": "markdown",
   "metadata": {},
   "source": [
    "# 3. DQN"
   ]
  },
  {
   "cell_type": "markdown",
   "metadata": {},
   "source": [
    "### 3.1 Implementation "
   ]
  },
  {
   "cell_type": "code",
   "execution_count": 250,
   "metadata": {},
   "outputs": [],
   "source": [
    "class Q(torch.nn.Module): \n",
    "    def __init__(self):\n",
    "        super(Q, self).__init__()\n",
    "        \n",
    "        self.MLP = torch.nn.Sequential(\n",
    "            torch.nn.Linear(2, 64),\n",
    "            torch.nn.ReLU(),\n",
    "            torch.nn.Linear(64, 64),\n",
    "            torch.nn.ReLU(),\n",
    "            torch.nn.Linear(64, 3))\n",
    "\n",
    "    def forward(self, s):\n",
    "        Q_values = self.MLP(s)\n",
    "        return Q_values"
   ]
  },
  {
   "cell_type": "code",
   "execution_count": 251,
   "metadata": {},
   "outputs": [],
   "source": [
    "class ReplayBuffer:    \n",
    "    def __init__(self, capacity=10000):\n",
    "        self.capacity = capacity\n",
    "        self.num_samples = 0\n",
    "        self.buffer = torch.zeros((self.capacity, 6))\n",
    "        \n",
    "    def add_observation(self, observation):\n",
    "        #observation = (state, action, reward, next_state)\n",
    "        index = self.num_samples % self.capacity\n",
    "\n",
    "        self.buffer[index] = observation\n",
    "        self.num_samples += 1\n",
    "\n",
    "    def sample_batch(self,batch_size=64):\n",
    "        record_range = min(self.num_samples, self.capacity)\n",
    "        indices = torch.randint(0,record_range,size=(batch_size,))\n",
    "        return self.buffer[indices]"
   ]
  },
  {
   "cell_type": "code",
   "execution_count": 252,
   "metadata": {},
   "outputs": [],
   "source": [
    "class DQNAgent(Agents):\n",
    "    def __init__(self,env, epsilon = 0.5, batch_size=64):\n",
    "        super().__init__(env)\n",
    "        self.Q = Q()\n",
    "        self.discount_factor = 0.99\n",
    "        self.epsilon = epsilon\n",
    "        self.batch_size = batch_size\n",
    "        self.optimizer = torch.optim.AdamW(self.Q.parameters(), lr=1e-3)\n",
    "        self.replay_buffer = ReplayBuffer()\n",
    "\n",
    "    def observe(self, state, action, reward, next_state):\n",
    "        self.replay_buffer.add_observation(torch.tensor([state[0], state[1], action, reward, next_state[0], next_state[1]], dtype=torch.float32))\n",
    "\n",
    "    def select_action(self, state):\n",
    "        if np.random.uniform(0, 1) < self.epsilon:\n",
    "            return self.env.action_space.sample()\n",
    "        else:\n",
    "            with torch.no_grad():\n",
    "                q = self.Q(torch.tensor(state, dtype=torch.float32)).numpy()\n",
    "            max_indices = np.argwhere(q == q.max())\n",
    "            return np.random.choice(max_indices[0])\n",
    "    \n",
    "    def update(self):\n",
    "        #batch.shape = (B, (S_x, S_v, A, R, S'_x, S'_v))\n",
    "        batch = self.replay_buffer.sample_batch(self.batch_size)\n",
    "        self.optimizer.zero_grad()\n",
    "\n",
    "        batch_next_state_Q_values = self.Q(batch[:, 4:]).clone().detach() # shape = (B, 3) 3 is action space\n",
    "        batch_max_next_state_Q_value = torch.max(batch_next_state_Q_values, dim=1).values\n",
    "        \n",
    "        loss = 0.5 * torch.mean((batch[:, 3] + self.discount_factor*batch_max_next_state_Q_value \n",
    "                      - self.Q(batch[:, :2])[:, batch[:, 2].int()])**2)\n",
    "        \n",
    "        loss.backward()\n",
    "        self.optimizer.step()\n",
    "        return loss.item()    "
   ]
  },
  {
   "cell_type": "code",
   "execution_count": 253,
   "metadata": {},
   "outputs": [],
   "source": [
    "def run_episode_DQN(agent, render=False, video_path=\"video.mp4\"):\n",
    "\n",
    "    state, _ = environment.reset()\n",
    "    done = False\n",
    "    \n",
    "    episode_reward = 0\n",
    "    episode_length = 0\n",
    "    if render:\n",
    "        frame = environment.render()\n",
    "        height, width, _ = frame.shape\n",
    "\n",
    "        fourcc = cv2.VideoWriter_fourcc(*'mp4v')\n",
    "        out = cv2.VideoWriter(video_path, fourcc, 20.0, (width, height))\n",
    "\n",
    "    while not done:\n",
    "        if render:\n",
    "            frame = environment.render()\n",
    "            frame = cv2.cvtColor(frame, cv2.COLOR_RGB2BGR)\n",
    "            out.write(frame)\n",
    "\n",
    "        action = agent.select_action(state)\n",
    "        next_state, reward, terminated, truncated, _ = environment.step(action)\n",
    "        agent.observe(state, action, reward, next_state)\n",
    "        agent.update()\n",
    "        \n",
    "        \n",
    "        episode_reward += reward\n",
    "        episode_length += 1\n",
    "        state = next_state\n",
    "        done = terminated or truncated\n",
    "    if render:\n",
    "        out.release()\n",
    "    return episode_reward, episode_length"
   ]
  },
  {
   "cell_type": "code",
   "execution_count": 254,
   "metadata": {},
   "outputs": [
    {
     "name": "stderr",
     "output_type": "stream",
     "text": [
      "100%|██████████| 1000/1000 [02:51<00:00,  5.82it/s]\n"
     ]
    },
    {
     "data": {
      "image/png": "[encoded data removed]",
      "text/plain": [
       "<Figure size 640x480 with 1 Axes>"
      ]
     },
     "metadata": {},
     "output_type": "display_data"
    }
   ],
   "source": [
    "environment = gym.make('MountainCar-v0', render_mode=\"rgb_array\")\n",
    "agent = DQNAgent(environment)\n",
    "\n",
    "list_rewards, list_lengths = ([], [])\n",
    "for episode in tqdm(range(1000)):\n",
    "    if (episode==300): kwargs = dict(render=True, video_path=\"video_dqn.mp4\")\n",
    "    else: kwargs = dict(render=False)\n",
    "\n",
    "    total_reward, duration = run_episode_DQN(agent=agent, **kwargs)\n",
    "    list_rewards.append(total_reward)\n",
    "    list_lengths.append(duration)\n",
    "\n",
    "plt.figure()\n",
    "plt.plot(episode_rewards, label=\"Episode reward\")\n",
    "plt.plot(episode_lengths, label=\"Episode length\")\n",
    "plt.xlabel(\"Episode\") \n",
    "plt.legend()\n",
    "plt.show()"
   ]
  }
 ],
 "metadata": {
  "kernelspec": {
   "display_name": "base",
   "language": "python",
   "name": "python3"
  },
  "language_info": {
   "codemirror_mode": {
    "name": "ipython",
    "version": 3
   },
   "file_extension": ".py",
   "mimetype": "text/x-python",
   "name": "python",
   "nbconvert_exporter": "python",
   "pygments_lexer": "ipython3",
   "version": "3.9.13"
  }
 },
 "nbformat": 4,
 "nbformat_minor": 2
}
