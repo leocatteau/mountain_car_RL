{
 "cells": [
  {
   "cell_type": "code",
   "execution_count": 36,
   "metadata": {},
   "outputs": [],
   "source": [
    "import gymnasium as gym\n",
    "import matplotlib.pyplot as plt\n",
    "import numpy as np\n",
    "import cv2\n",
    "import torch\n",
    "import random\n",
    "import tqdm"
   ]
  },
  {
   "cell_type": "markdown",
   "metadata": {},
   "source": [
    "# Mini-project 1: Dealing with sparse rewards in the Mountain Car environment"
   ]
  },
  {
   "cell_type": "code",
   "execution_count": 6,
   "metadata": {},
   "outputs": [],
   "source": [
    "environment = gym.make('MountainCar-v0', render_mode = \"rgb_array\")"
   ]
  },
  {
   "cell_type": "markdown",
   "metadata": {},
   "source": [
    "## 2 First steps"
   ]
  },
  {
   "cell_type": "code",
   "execution_count": 8,
   "metadata": {},
   "outputs": [],
   "source": [
    "class RandomAgent():\n",
    "    def __init__(self, initial_state):\n",
    "        self.state = initial_state\n",
    "\n",
    "    def observe(self, state, action, next_state, reward):\n",
    "        None\n",
    "    def select_action(self, state):\n",
    "        return environment.action_space.sample()\n",
    "    def update(self):\n",
    "        None\n",
    "\n",
    "def run_episode(agent, render=False, video_path=\"video.mp4\"):\n",
    "\n",
    "    state, _ = environment.reset()\n",
    "    agent = agent(state)\n",
    "    done = False\n",
    "    \n",
    "    episode_reward = 0\n",
    "    duration = 0\n",
    "    if render:\n",
    "        frame = environment.render()\n",
    "        height, width, _ = frame.shape\n",
    "\n",
    "        fourcc = cv2.VideoWriter_fourcc(*'mp4v')\n",
    "        out = cv2.VideoWriter(video_path, fourcc, 20.0, (width, height))\n",
    "\n",
    "    while not done:\n",
    "        if render:\n",
    "            frame = environment.render()\n",
    "            frame = cv2.cvtColor(frame, cv2.COLOR_RGB2BGR)\n",
    "            out.write(frame)\n",
    "\n",
    "        action = agent.select_action(state)\n",
    "        next_state, reward, terminated, truncated, _ = environment.step(action)\n",
    "        \n",
    "        episode_reward += reward\n",
    "        duration += 1\n",
    "        \n",
    "        state = next_state\n",
    "        done = terminated or truncated\n",
    "    if render:\n",
    "        out.release()\n",
    "    return episode_reward, duration"
   ]
  },
  {
   "cell_type": "code",
   "execution_count": 9,
   "metadata": {},
   "outputs": [],
   "source": [
    "list_total_rewards, list_durations = ([], [])\n",
    "\n",
    "for episode in range(100):\n",
    "    if (episode==1): kwargs = dict(render=True)\n",
    "    else: kwargs = dict(render=False)\n",
    "\n",
    "    total_reward, duration = run_episode(RandomAgent, **kwargs)\n",
    "    list_total_rewards.append(total_reward)\n",
    "    list_durations.append(duration)"
   ]
  },
  {
   "cell_type": "code",
   "execution_count": 10,
   "metadata": {},
   "outputs": [
    {
     "data": {
      "image/png": "[encoded data removed]",
      "text/plain": [
       "<Figure size 640x480 with 1 Axes>"
      ]
     },
     "metadata": {},
     "output_type": "display_data"
    }
   ],
   "source": [
    "plt.scatter(np.arange(100), list_total_rewards)\n",
    "plt.scatter(np.arange(100), list_durations)\n",
    "plt.show()"
   ]
  },
  {
   "cell_type": "markdown",
   "metadata": {},
   "source": [
    "## 3 DQN\n"
   ]
  },
  {
   "cell_type": "code",
   "execution_count": 11,
   "metadata": {},
   "outputs": [],
   "source": [
    "class ReplayBuffer:    \n",
    "    def __init__(self, capacity=10000):\n",
    "        self.capacity = capacity\n",
    "        self.num_samples = 0\n",
    "        self.buffer = torch.zeros((self.capacity, 6))\n",
    "        \n",
    "    def add_observation(self, observation):\n",
    "        #observation = (state_position, state_speed, action, reward, next_state_position, next_state_speed)\n",
    "        index = self.num_samples % self.capacity\n",
    "\n",
    "        self.buffer[index] = observation\n",
    "        self.num_samples += 1\n",
    "\n",
    "    def sample_batch(self,batch_size=64):\n",
    "        record_range = min(self.num_samples, self.capacity)\n",
    "        indices = torch.randint(0,record_range,size=(batch_size,))\n",
    "        return self.buffer[indices]"
   ]
  },
  {
   "cell_type": "code",
   "execution_count": 41,
   "metadata": {},
   "outputs": [],
   "source": [
    "class Q(torch.nn.Module):\n",
    "    def __init__(self):\n",
    "        super(Q, self).__init__()\n",
    "        self.MLP = torch.nn.Sequential(\n",
    "            torch.nn.Linear(2, 64),\n",
    "            torch.nn.ReLU(),\n",
    "            torch.nn.Linear(64, 64),\n",
    "            torch.nn.ReLU(),\n",
    "            torch.nn.Linear(64, 3),\n",
    "        )\n",
    "\n",
    "    def forward(self,state):\n",
    "        Q_values = self.MLP(state)\n",
    "        return Q_values\n",
    "\n",
    "class DQN_Agent():\n",
    "    \n",
    "    def __init__(self, epsilon = 0.5, batch_size=64):\n",
    "        self.Q = Q()\n",
    "        self.discount_factor = 0.99\n",
    "        self.epsilon = epsilon\n",
    "        self.batch_size = batch_size\n",
    "        self.optimizer = torch.optim.AdamW(self.Q.parameters(), lr=1e-3)\n",
    "        self.replay_buffer = ReplayBuffer()\n",
    "\n",
    "    def observe(self, state, action, reward, next_state):\n",
    "        self.replay_buffer.add_observation(\n",
    "            torch.tensor([state[0], state[1], action, reward, next_state[0], next_state[1]], dtype=torch.float32)\n",
    "            )\n",
    "\n",
    "    def select_action(self, state):\n",
    "       \n",
    "        if random.random() > self.epsilon:\n",
    "            q_values = self.Q(torch.tensor(state, dtype=torch.float32)).numpy()\n",
    "            max_q_value = np.max(q_values)\n",
    "            max_actions = np.where(q_values == max_q_value)[0]\n",
    "            \n",
    "            return np.random.choice(max_actions)\n",
    "        else:\n",
    "            return environment.action_space.sample()\n",
    "    \n",
    "    def update(self):\n",
    "        #batch.shape = (B, (S_P, S_S, A, R, S_P', S_S'))\n",
    "        batch = self.replay_buffer.sample_batch(self.batch_size)\n",
    "        self.optimizer.zero_grad()\n",
    "\n",
    "        batch_next_state_Q_values = self.Q(batch[:, 4:]).clone().detach() # shape = (B, 3) 3 is action space\n",
    "        batch_max_next_state_Q_value = torch.max(batch_next_state_Q_values, dim=1).values\n",
    "        \n",
    "\n",
    "        loss = 0.5 * torch.mean((batch[:, 3] + self.discount_factor*batch_max_next_state_Q_value \n",
    "                      - self.Q(batch[:, :2])[:, batch[:, 2].int()])**2)\n",
    "        \n",
    "        loss.backward()\n",
    "        self.optimizer.step()\n",
    "        return loss.item()\n",
    "    \n",
    "\n",
    "def run_episode_DQN(agent, render=False, video_path=\"video.mp4\"):\n",
    "\n",
    "    state, _ = environment.reset()\n",
    "    done = False\n",
    "    \n",
    "    episode_reward = 0\n",
    "    duration = 0\n",
    "    if render:\n",
    "        frame = environment.render()\n",
    "        height, width, _ = frame.shape\n",
    "\n",
    "        fourcc = cv2.VideoWriter_fourcc(*'mp4v')\n",
    "        out = cv2.VideoWriter(video_path, fourcc, 20.0, (width, height))\n",
    "\n",
    "    while not done:\n",
    "        if render:\n",
    "            frame = environment.render()\n",
    "            frame = cv2.cvtColor(frame, cv2.COLOR_RGB2BGR)\n",
    "            out.write(frame)\n",
    "\n",
    "        action = agent.select_action(state)\n",
    "        next_state, reward, terminated, truncated, _ = environment.step(action)\n",
    "        agent.observe(state, action, reward, next_state)\n",
    "        q_network_loss = agent.update()\n",
    "        #print(q_network_loss)\n",
    "        \n",
    "        \n",
    "        episode_reward += reward\n",
    "        duration += 1\n",
    "        state = next_state\n",
    "        done = terminated or truncated\n",
    "    if render:\n",
    "        out.release()\n",
    "    return episode_reward, duration\n",
    "\n",
    "#run_episode_DQN()"
   ]
  },
  {
   "cell_type": "code",
   "execution_count": 49,
   "metadata": {},
   "outputs": [
    {
     "name": "stderr",
     "output_type": "stream",
     "text": [
      "100%|██████████| 301/301 [00:27<00:00, 10.81it/s]\n"
     ]
    }
   ],
   "source": [
    "agent = DQN_Agent()\n",
    "list_total_rewards, list_durations = ([], [])\n",
    "\n",
    "for episode in tqdm.tqdm(range(301)):\n",
    "    if (episode==300): kwargs = dict(render=True, video_path=\"video_dqn.mp4\")\n",
    "    else: kwargs = dict(render=False)\n",
    "\n",
    "    total_reward, duration = run_episode_DQN(agent=agent, **kwargs)\n",
    "    list_total_rewards.append(total_reward)\n",
    "    list_durations.append(duration)"
   ]
  },
  {
   "cell_type": "code",
   "execution_count": 44,
   "metadata": {},
   "outputs": [
    {
     "data": {
      "text/plain": [
       "array([-200.])"
      ]
     },
     "execution_count": 44,
     "metadata": {},
     "output_type": "execute_result"
    }
   ],
   "source": [
    "np.unique(list_total_rewards)"
   ]
  },
  {
   "cell_type": "code",
   "execution_count": 43,
   "metadata": {},
   "outputs": [
    {
     "data": {
      "image/png": "[encoded data removed]",
      "text/plain": [
       "<Figure size 640x480 with 1 Axes>"
      ]
     },
     "metadata": {},
     "output_type": "display_data"
    }
   ],
   "source": [
    "plt.scatter(np.arange(1000), list_total_rewards)\n",
    "plt.scatter(np.arange(1000), list_durations)\n",
    "plt.show()"
   ]
  }
 ],
 "metadata": {
  "kernelspec": {
   "display_name": "vimm",
   "language": "python",
   "name": "python3"
  },
  "language_info": {
   "codemirror_mode": {
    "name": "ipython",
    "version": 3
   },
   "file_extension": ".py",
   "mimetype": "text/x-python",
   "name": "python",
   "nbconvert_exporter": "python",
   "pygments_lexer": "ipython3",
   "version": "3.12.3"
  }
 },
 "nbformat": 4,
 "nbformat_minor": 2
}
