{
 "cells": [
  {
   "cell_type": "code",
   "execution_count": 16,
   "metadata": {},
   "outputs": [],
   "source": [
    "import gymnasium as gym\n",
    "import matplotlib.pyplot as plt\n",
    "import numpy as np\n",
    "import cv2"
   ]
  },
  {
   "cell_type": "markdown",
   "metadata": {},
   "source": [
    "# Mini-project 1: Dealing with sparse rewards in the Mountain Car environment"
   ]
  },
  {
   "cell_type": "code",
   "execution_count": 2,
   "metadata": {},
   "outputs": [],
   "source": [
    "environment = gym.make('MountainCar-v0', render_mode = \"rgb_array\")"
   ]
  },
  {
   "cell_type": "markdown",
   "metadata": {},
   "source": [
    "## 2 First steps"
   ]
  },
  {
   "cell_type": "code",
   "execution_count": 35,
   "metadata": {},
   "outputs": [],
   "source": [
    "class RandomAgent():\n",
    "    def __init__(self, initial_state):\n",
    "        self.state = initial_state\n",
    "\n",
    "    def observe(self, state, action, next_state, reward):\n",
    "        None\n",
    "    def select_action(self, state):\n",
    "        return environment.action_space.sample()\n",
    "    def update(self):\n",
    "        None\n",
    "\n",
    "def run_episode(agent, render=False, video_path=\"video.mp4\"):\n",
    "\n",
    "    state, _ = environment.reset()\n",
    "    agent = agent(state)\n",
    "    done = False\n",
    "    \n",
    "    episode_reward = 0\n",
    "    duration = 0\n",
    "    if render:\n",
    "        frame = environment.render()\n",
    "        height, width, _ = frame.shape\n",
    "\n",
    "        fourcc = cv2.VideoWriter_fourcc(*'mp4v')\n",
    "        out = cv2.VideoWriter(video_path, fourcc, 20.0, (width, height))\n",
    "\n",
    "    while not done:\n",
    "        if render:\n",
    "            frame = environment.render()\n",
    "            frame = cv2.cvtColor(frame, cv2.COLOR_RGB2BGR)\n",
    "            out.write(frame)\n",
    "\n",
    "        action = environment.action_space.sample()\n",
    "        next_state, reward, terminated, truncated, _ = environment.step(action)\n",
    "\n",
    "        episode_reward += reward\n",
    "        duration += 1\n",
    "        \n",
    "        state = next_state\n",
    "        done = terminated or truncated\n",
    "    if render:\n",
    "        out.release()\n",
    "    return episode_reward, duration"
   ]
  },
  {
   "cell_type": "code",
   "execution_count": 36,
   "metadata": {},
   "outputs": [],
   "source": [
    "list_total_rewards, list_durations = ([], [])\n",
    "\n",
    "for episode in range(100):\n",
    "    if (episode==1): kwargs = dict(render=True)\n",
    "    else: kwargs = dict(render=False)\n",
    "\n",
    "    total_reward, duration = run_episode(RandomAgent, **kwargs)\n",
    "    list_total_rewards.append(total_reward)\n",
    "    list_durations.append(duration)"
   ]
  },
  {
   "cell_type": "code",
   "execution_count": 37,
   "metadata": {},
   "outputs": [
    {
     "data": {
      "image/png": "[encoded data removed]",
      "text/plain": [
       "<Figure size 640x480 with 1 Axes>"
      ]
     },
     "metadata": {},
     "output_type": "display_data"
    }
   ],
   "source": [
    "plt.scatter(np.arange(100), list_total_rewards)\n",
    "plt.scatter(np.arange(100), list_durations)\n",
    "plt.show()"
   ]
  },
  {
   "cell_type": "markdown",
   "metadata": {},
   "source": [
    "## 3 DQN"
   ]
  },
  {
   "cell_type": "code",
   "execution_count": null,
   "metadata": {},
   "outputs": [],
   "source": []
  }
 ],
 "metadata": {
  "kernelspec": {
   "display_name": "vimm",
   "language": "python",
   "name": "python3"
  },
  "language_info": {
   "codemirror_mode": {
    "name": "ipython",
    "version": 3
   },
   "file_extension": ".py",
   "mimetype": "text/x-python",
   "name": "python",
   "nbconvert_exporter": "python",
   "pygments_lexer": "ipython3",
   "version": "3.12.3"
  }
 },
 "nbformat": 4,
 "nbformat_minor": 2
}
